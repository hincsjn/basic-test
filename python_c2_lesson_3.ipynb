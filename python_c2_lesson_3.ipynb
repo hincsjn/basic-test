{
 "cells": [
  {
   "cell_type": "markdown",
   "id": "respective-syndrome",
   "metadata": {},
   "source": [
    "### Урок 3. "
   ]
  },
  {
   "cell_type": "markdown",
   "id": "certain-physiology",
   "metadata": {},
   "source": [
    "##### 1. Ввод данных"
   ]
  },
  {
   "cell_type": "markdown",
   "id": "turkish-construction",
   "metadata": {},
   "source": [
    "Обычно, программы - это шаблоны для решения какой-то задачи определнного пользователя. \n",
    "Это означает, что зачастую требуется получить информацию от пользователя и сохранить ее для дальнейшей обработки и вывода.\n",
    "Для получения данных используется функция *input()*."
   ]
  },
  {
   "cell_type": "code",
   "execution_count": 2,
   "id": "classical-tampa",
   "metadata": {},
   "outputs": [
    {
     "name": "stdout",
     "output_type": "stream",
     "text": [
      "25\n",
      "Ваш возраст 25\n"
     ]
    }
   ],
   "source": [
    "age = input()\n",
    "print('Ваш возраст', age)"
   ]
  },
  {
   "cell_type": "markdown",
   "id": "constitutional-crowd",
   "metadata": {},
   "source": [
    "Функция *input()* приостанавливает выполнение программы для того, чтобы пользователь ввел данные. Затем, для нашего удобства сохраняет полученное значение в переменной. В примере выше мы получили возраст пользователя и сохранили его в переменной age."
   ]
  },
  {
   "cell_type": "markdown",
   "id": "promotional-roommate",
   "metadata": {},
   "source": [
    "*input()* получет лишь один аргумент (то, что записываем в скобки к функции) - подсказку для пользователя. К примеру, во время выполнения прошлого кода не совсем ясно, что конкретно требуется ввести. Давайте перепишем те две строчки кода."
   ]
  },
  {
   "cell_type": "code",
   "execution_count": 3,
   "id": "going-violence",
   "metadata": {},
   "outputs": [
    {
     "name": "stdout",
     "output_type": "stream",
     "text": [
      "Введите ваш возраст: 20\n",
      "Ваш возраст 20\n"
     ]
    }
   ],
   "source": [
    "age = input('Введите ваш возраст: ')\n",
    "print('Ваш возраст', age)"
   ]
  },
  {
   "cell_type": "markdown",
   "id": "arabic-contrary",
   "metadata": {},
   "source": [
    "И так как подсказка чаще всего строка, не забываем про кавычки."
   ]
  },
  {
   "cell_type": "markdown",
   "id": "harmful-cancer",
   "metadata": {},
   "source": [
    "##### 2. ошибка input()'а"
   ]
  },
  {
   "cell_type": "markdown",
   "id": "contemporary-armor",
   "metadata": {},
   "source": [
    "Давайте напишем программу, которая получит число от пользователя и вернет нам квадрат(вторую степень) этого числа."
   ]
  },
  {
   "cell_type": "code",
   "execution_count": 7,
   "id": "recognized-baking",
   "metadata": {},
   "outputs": [
    {
     "name": "stdout",
     "output_type": "stream",
     "text": [
      "Введите число: 2\n"
     ]
    },
    {
     "ename": "TypeError",
     "evalue": "unsupported operand type(s) for ** or pow(): 'str' and 'int'",
     "output_type": "error",
     "traceback": [
      "\u001b[1;31m---------------------------------------------------------------------------\u001b[0m",
      "\u001b[1;31mTypeError\u001b[0m                                 Traceback (most recent call last)",
      "\u001b[1;32m<ipython-input-7-fa0e551c8147>\u001b[0m in \u001b[0;36m<module>\u001b[1;34m\u001b[0m\n\u001b[0;32m      1\u001b[0m \u001b[0mnum\u001b[0m \u001b[1;33m=\u001b[0m \u001b[0minput\u001b[0m\u001b[1;33m(\u001b[0m\u001b[1;34m'Введите число: '\u001b[0m\u001b[1;33m)\u001b[0m\u001b[1;33m\u001b[0m\u001b[1;33m\u001b[0m\u001b[0m\n\u001b[1;32m----> 2\u001b[1;33m \u001b[0mprint\u001b[0m\u001b[1;33m(\u001b[0m\u001b[1;34m'Квадрат числа'\u001b[0m\u001b[1;33m,\u001b[0m \u001b[0mnum\u001b[0m\u001b[1;33m,\u001b[0m \u001b[1;34m'='\u001b[0m\u001b[1;33m,\u001b[0m \u001b[0mnum\u001b[0m \u001b[1;33m**\u001b[0m \u001b[1;36m2\u001b[0m\u001b[1;33m)\u001b[0m\u001b[1;33m\u001b[0m\u001b[1;33m\u001b[0m\u001b[0m\n\u001b[0m",
      "\u001b[1;31mTypeError\u001b[0m: unsupported operand type(s) for ** or pow(): 'str' and 'int'"
     ]
    }
   ],
   "source": [
    "num = input('Введите число: ')\n",
    "print('Квадрат числа', num, '=', num ** 2)"
   ]
  },
  {
   "cell_type": "markdown",
   "id": "neural-dress",
   "metadata": {},
   "source": [
    "Мы получили ошибку типа (TypeError). Дело в том, что функция *input()* по умолчанию воспринимает все введенные значения, как строки. Это значит, что введенное число 2 python воспринимает, как строку '2'. Мы уже знаем, что строку нельзя возвести в степень. На помощь приходят уже знакомые функции перевода данных из одного типа в другой."
   ]
  },
  {
   "cell_type": "code",
   "execution_count": 10,
   "id": "legislative-theology",
   "metadata": {},
   "outputs": [
    {
     "name": "stdout",
     "output_type": "stream",
     "text": [
      "Введите число: 2\n",
      "Квадрат числа 2 = 4\n"
     ]
    }
   ],
   "source": [
    "num = input('Введите число: ')\n",
    "num = int(num)\n",
    "print('Квадрат числа', num, '=', num ** 2)"
   ]
  },
  {
   "cell_type": "markdown",
   "id": "right-visibility",
   "metadata": {},
   "source": [
    "Давайте напишем программу, которая будет запрашивать данные о пользователе, а затем выводить приветственную строку."
   ]
  },
  {
   "cell_type": "code",
   "execution_count": 14,
   "id": "alpha-antarctica",
   "metadata": {},
   "outputs": [
    {
     "name": "stdout",
     "output_type": "stream",
     "text": [
      "Как вас зовут? Миша\n",
      "Сколько вам лет? 30\n",
      "Привет, Миша! Ого, тебе уже 30 лет!\n"
     ]
    }
   ],
   "source": [
    "name = input('Как вас зовут? ')\n",
    "age = int(input('Сколько вам лет? '))\n",
    "\n",
    "print('Привет,', name +'! Ого, тебе уже', age, 'лет!')"
   ]
  },
  {
   "cell_type": "markdown",
   "id": "noble-protection",
   "metadata": {},
   "source": [
    "Дополни приветственную строку своими фразами"
   ]
  },
  {
   "cell_type": "markdown",
   "id": "worst-solid",
   "metadata": {},
   "source": [
    "Есть некоторые сокращения для удобства написания кода. Познакомимся с некоторыми из них."
   ]
  },
  {
   "cell_type": "code",
   "execution_count": 21,
   "id": "revised-sheriff",
   "metadata": {},
   "outputs": [],
   "source": [
    "num = 0\n",
    "num = num + 1\n",
    "num += 1\n",
    "num = num - 1\n",
    "num -= 1"
   ]
  },
  {
   "cell_type": "markdown",
   "id": "african-operations",
   "metadata": {},
   "source": [
    "А теперь, напиши программу, для подсчета суммы цифр введенного трёхзначного числа."
   ]
  },
  {
   "cell_type": "code",
   "execution_count": 20,
   "id": "resident-longer",
   "metadata": {},
   "outputs": [
    {
     "name": "stdout",
     "output_type": "stream",
     "text": [
      "Введите число: 456\n",
      "15\n"
     ]
    }
   ],
   "source": [
    "num = int(input('Введите число: '))\n",
    "summa = 0\n",
    "a = num // 100\n",
    "summa += a\n",
    "b = num // 10 % 10\n",
    "summa += b\n",
    "c = num % 10\n",
    "summa += c\n",
    "print(summa)"
   ]
  },
  {
   "cell_type": "markdown",
   "id": "digital-glossary",
   "metadata": {},
   "source": [
    "**Домашнее задание**"
   ]
  },
  {
   "cell_type": "markdown",
   "id": "developmental-anxiety",
   "metadata": {},
   "source": [
    "**Задание 1.**<br>Давайте напишем программу для подсчета объема шара. Программа получает радиус шара от пользователя.<br>\n",
    "Объем шара равен четырем третим от его радиуса в кубе помноженого на число пи. Не забывай, что радиус может быть дробным числом."
   ]
  },
  {
   "cell_type": "markdown",
   "id": "unique-central",
   "metadata": {},
   "source": [
    "**Задание 2.**<br>Теперь задачка посложнее). Напиши программу, которая получит 4 числа, описывающих координаты двух точек(x1, y1, x2, y2).<br>С помощью теоремы Пифагора найди расстояние между точками. <br>*Подсказка:* квадратный корень можно получить с помощью возведения в степень 1/2."
   ]
  },
  {
   "cell_type": "code",
   "execution_count": null,
   "id": "single-recorder",
   "metadata": {},
   "outputs": [],
   "source": []
  }
 ],
 "metadata": {
  "kernelspec": {
   "display_name": "Python 3",
   "language": "python",
   "name": "python3"
  },
  "language_info": {
   "codemirror_mode": {
    "name": "ipython",
    "version": 3
   },
   "file_extension": ".py",
   "mimetype": "text/x-python",
   "name": "python",
   "nbconvert_exporter": "python",
   "pygments_lexer": "ipython3",
   "version": "3.9.2"
  }
 },
 "nbformat": 4,
 "nbformat_minor": 5
}
